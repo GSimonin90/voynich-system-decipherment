{
 "cells": [
  {
   "cell_type": "markdown",
   "id": "1d76e008",
   "metadata": {},
   "source": [
    "# The Voynich System: Full Analysis Pipeline\n",
    "This notebook provides a step-by-step, executable guide to reproduce the key analyses in the paper:\n",
    "\"The Voynich System: A Functional Grammar and Logical Framework...\".\n",
    "\n",
    "Each cell executes a script in the analysis chain. To run a cell, click the \"Run\" button (▶) that appears to its left."
   ]
  },
  {
   "cell_type": "code",
   "execution_count": null,
   "id": "794bb30b",
   "metadata": {
    "vscode": {
     "languageId": "plaintext"
    }
   },
   "outputs": [],
   "source": [
    "!pip install pandas networkx matplotlib"
   ]
  },
  {
   "cell_type": "code",
   "execution_count": null,
   "id": "ca5afe74",
   "metadata": {
    "vscode": {
     "languageId": "plaintext"
    }
   },
   "outputs": [],
   "source": [
    "# STEP 0: Create the Main Clean Corpus\n",
    "print(\"--- Step 0: Creating the main segmented corpus ---\")\n",
    "!python scripts/0_create_segmented_corpus.py\n",
    "print(\"\\n--- Step 0 complete: 'voynich_super_clean_with_pages.txt' has been created. ---\")"
   ]
  },
  {
   "cell_type": "code",
   "execution_count": null,
   "id": "197189d8",
   "metadata": {
    "vscode": {
     "languageId": "plaintext"
    }
   },
   "outputs": [],
   "source": [
    "# STEP 1: Segment Corpus by Dialect\n",
    "print(\"\\n--- Step 1: Segmenting corpus by Currier Dialects A and B ---\")\n",
    "!python scripts/1_segment_by_dialect.py\n",
    "print(\"\\n--- Step 1 complete: 'corpus_A.txt' and 'corpus_B.txt' have been created. ---\")"
   ]
  },
  {
   "cell_type": "code",
   "execution_count": null,
   "id": "26a17c92",
   "metadata": {
    "vscode": {
     "languageId": "plaintext"
    }
   },
   "outputs": [],
   "source": [
    "# STEP 2: Thematic Analysis (Proof of Nine)\n",
    "print(\"\\n--- Step 2: Running thematic analysis on the full corpus ---\")\n",
    "!python scripts/2_analyze_thematic_lift.py\n",
    "print(\"\\n--- Step 2 complete: See 'thematic_analysis.csv' for results. ---\")"
   ]
  },
  {
   "cell_type": "code",
   "execution_count": null,
   "id": "fcdbb965",
   "metadata": {
    "vscode": {
     "languageId": "plaintext"
    }
   },
   "outputs": [],
   "source": [
    "# STEP 3: Dialect Quantification\n",
    "print(\"\\n--- Step 3: Quantifying concept frequencies in Dialects A and B ---\")\n",
    "!python scripts/3_quantify_dialects.py\n",
    "print(\"\\n--- Step 3 complete: See 'dialect_quantification.csv' for the dialect fingerprint. ---\")"
   ]
  },
  {
   "cell_type": "code",
   "execution_count": null,
   "id": "24b9c805",
   "metadata": {
    "vscode": {
     "languageId": "plaintext"
    }
   },
   "outputs": [],
   "source": [
    "# STEP 4: Syntactic Analysis (Connectors)\n",
    "print(\"\\n--- Step 4: Running syntactic analysis on the full corpus ---\")\n",
    "!python scripts/4a_analyze_all_syntactic_patterns.py\n",
    "print(\"\\n--- Step 4 complete: See 'all_syntactic_patterns.txt' for results. ---\")"
   ]
  },
  {
   "cell_type": "code",
   "execution_count": null,
   "id": "fda19f0b",
   "metadata": {
    "vscode": {
     "languageId": "plaintext"
    }
   },
   "outputs": [],
   "source": [
    "# STEP 5: Functional Translation (Example)\n",
    "print(\"\\n--- Step 5: Performing a functional translation of folio f9v ---\")\n",
    "!python scripts/8_translate_folio.py f9v\n",
    "print(\"\\n--- Step 5 complete. ---\")"
   ]
  },
  {
   "cell_type": "code",
   "execution_count": null,
   "id": "f91374b1",
   "metadata": {
    "vscode": {
     "languageId": "plaintext"
    }
   },
   "outputs": [],
   "source": [
    "# STEP 6: Build the Knowledge Graph\n",
    "print(\"\\n--- Step 6: Building the knowledge graph file ---\")\n",
    "!python scripts/7_build_knowledge_graph.py\n",
    "print(\"\\n--- Step 6 complete: Open 'voynich_knowledge_graph.gexf' in Gephi to visualize the system. ---\")"
   ]
  },
  {
   "cell_type": "code",
   "execution_count": null,
   "id": "0d9981d7",
   "metadata": {
    "vscode": {
     "languageId": "plaintext"
    }
   },
   "outputs": [],
   "source": [
    "# STEP 7: Generate Appendix C Chart\n",
    "print(\"\\n--- Step 7: Generating the chart for Appendix C ---\")\n",
    "!python scripts/9_generate_appendix_chart.py\n",
    "print(\"\\n--- Step 7 complete: 'appendix_C_chart.png' has been created. ---\")"
   ]
  }
 ],
 "metadata": {
  "language_info": {
   "name": "python"
  }
 },
 "nbformat": 4,
 "nbformat_minor": 5
}
